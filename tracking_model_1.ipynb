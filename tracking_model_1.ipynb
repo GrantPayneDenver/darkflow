{
 "cells": [
  {
   "cell_type": "code",
   "execution_count": 2,
   "metadata": {
    "scrolled": true
   },
   "outputs": [
    {
     "name": "stderr",
     "output_type": "stream",
     "text": [
      "Using TensorFlow backend.\n"
     ]
    }
   ],
   "source": [
    "import keras\n",
    "\n",
    "import matplotlib.pyplot as plt\n",
    "from zipfile import ZipFile\n",
    "import numpy as np\n",
    "from keras.utils import np_utils\n",
    "\n",
    "from keras.models import Sequential\n",
    "from keras.layers import Dense\n",
    "from keras.layers import MaxPooling2D\n",
    "from keras.layers import Convolution2D\n",
    "from keras.layers import Flatten\n",
    "\n",
    "seed = 109343164\n",
    "np.random.seed(seed)\n",
    "\n",
    "import numpy as np # linear algebra\n",
    "import pandas as pd \n",
    "\n",
    "import os, sys\n",
    "from IPython.display import display\n",
    "from IPython.display import Image as _Imgdis\n",
    "import numpy as np\n",
    "from time import time\n",
    "from time import sleep\n",
    "# import Image\n",
    "from PIL import Image # PIL == Pillow\n",
    "import cv2\n"
   ]
  },
  {
   "cell_type": "code",
   "execution_count": 3,
   "metadata": {},
   "outputs": [],
   "source": [
    "# folder = \"./video_results/bounding_boxes\"\n",
    "folder = r'C:\\Users\\grant\\Documents\\School\\Deep Learning\\Project_v2\\trunk\\video_results\\all_boxes'\n",
    "\n",
    "# images = [f for f in os.listdir(folder) if os.path.isfile(os.path.join(folder, f))]\n",
    "images = []\n",
    "for f in os.listdir(folder):\n",
    "    if os.path.isfile(os.path.join(folder, f)):\n",
    "        images.append(f)\n",
    "        \n",
    "import re\n",
    "def sorted_aphanumeric(data):\n",
    "    convert = lambda text: int(text) if text.isdigit() else text.lower()\n",
    "    alphanum_key = lambda key: [ convert(c) for c in re.split('([0-9]+)', key) ] \n",
    "    return sorted(data, key=alphanum_key)\n",
    "\n",
    "images = sorted_aphanumeric(images)\n"
   ]
  },
  {
   "cell_type": "code",
   "execution_count": 4,
   "metadata": {},
   "outputs": [
    {
     "name": "stdout",
     "output_type": "stream",
     "text": [
      "type of raw_images\n",
      "<class 'numpy.ndarray'>\n",
      "type of raw_images[0]\n",
      "<class 'numpy.ndarray'>\n",
      "shape of raw_images[0]\n",
      "(250, 250, 3)\n",
      "(1935, 250, 250, 3)\n"
     ]
    },
    {
     "data": {
      "text/plain": [
       "<matplotlib.image.AxesImage at 0x1fc3fc202b0>"
      ]
     },
     "execution_count": 4,
     "metadata": {},
     "output_type": "execute_result"
    },
    {
     "data": {
      "image/png": "[encoded data removed]",
      "text/plain": [
       "<Figure size 432x288 with 1 Axes>"
      ]
     },
     "metadata": {},
     "output_type": "display_data"
    }
   ],
   "source": [
    "import cv2\n",
    "raw_images=[]\n",
    "grounds=[]\n",
    "for i in range(0, len(images)):\n",
    "    if \"z\" in images[i]:\n",
    "        grounds.append(1)\n",
    "    else:\n",
    "        grounds.append(0)\n",
    "    img = cv2.imread(filename=folder + \"/\" + images[i])\n",
    "    raw_images.append(img)\n",
    "    \n",
    "\n",
    "raw_images = np.array(raw_images)\n",
    "    \n",
    "# CV2 reads in images as ndArray\n",
    "print('type of raw_images')\n",
    "print(type(raw_images))\n",
    "print('type of raw_images[0]')\n",
    "print(type(raw_images[0]))\n",
    "print('shape of raw_images[0]')\n",
    "print(raw_images[0].shape)\n",
    "print(raw_images.shape)\n",
    "plt.imshow(raw_images[0])\n",
    "\n"
   ]
  },
  {
   "cell_type": "code",
   "execution_count": 5,
   "metadata": {},
   "outputs": [
    {
     "name": "stdout",
     "output_type": "stream",
     "text": [
      "(1935, 187500)\n"
     ]
    }
   ],
   "source": [
    "# resize and scale pix values in all images\n",
    "raw_images = raw_images.reshape(raw_images.shape[0], 250*250*3).astype('float32') # as float32 so that nums are smaller, take less memory\n",
    "print(raw_images.shape)\n",
    "raw_images = (raw_images-np.min(raw_images))/(np.max(raw_images)-np.min(raw_images))\n",
    "raw_images.resize(raw_images.shape[0], 250, 250, 3)"
   ]
  },
  {
   "cell_type": "code",
   "execution_count": 5,
   "metadata": {},
   "outputs": [],
   "source": [
    "from scipy import ndimage\n",
    "from keras.preprocessing.image import ImageDataGenerator, array_to_img, img_to_array, load_img\n",
    "num_of_classes=2"
   ]
  },
  {
   "cell_type": "code",
   "execution_count": 6,
   "metadata": {},
   "outputs": [],
   "source": [
    "from keras.models import Sequential\n",
    "from keras.layers import Dense\n",
    "from keras.layers.convolutional import Conv2D,MaxPooling2D\n",
    "from keras.layers import Flatten\n",
    "def baselineCNN():\n",
    "    m = Sequential()\n",
    "    # first hidden layer\n",
    "    m.add(Conv2D(filters=40,\n",
    "                kernel_size=(10,10),\n",
    "                input_shape=(250,250,3), # check this\n",
    "                activation='relu')) \n",
    "    # pooling layer\n",
    "    m.add(\n",
    "        MaxPooling2D(pool_size=(4,4))\n",
    "    )\n",
    "    # Flattening Layer\n",
    "    m.add(\n",
    "        Flatten()\n",
    "    )\n",
    "    #Fully connected layer\n",
    "    m.add(\n",
    "        Dense(\n",
    "            units=200,\n",
    "            activation='relu'\n",
    "        )\n",
    "    )\n",
    "    #Output layer\n",
    "    m.add(\n",
    "        Dense(\n",
    "            units=num_of_classes,\n",
    "            activation='softmax'\n",
    "        )\n",
    "    )\n",
    "    #compile model\n",
    "    m.compile(\n",
    "        loss='categorical_crossentropy',\n",
    "        optimizer='adam',\n",
    "        metrics=['accuracy']\n",
    "    )\n",
    "    #return the model\n",
    "    return m"
   ]
  },
  {
   "cell_type": "code",
   "execution_count": 7,
   "metadata": {},
   "outputs": [
    {
     "name": "stdout",
     "output_type": "stream",
     "text": [
      "_________________________________________________________________\n",
      "Layer (type)                 Output Shape              Param #   \n",
      "=================================================================\n",
      "conv2d_1 (Conv2D)            (None, 241, 241, 40)      12040     \n",
      "_________________________________________________________________\n",
      "max_pooling2d_1 (MaxPooling2 (None, 60, 60, 40)        0         \n",
      "_________________________________________________________________\n",
      "flatten_1 (Flatten)          (None, 144000)            0         \n",
      "_________________________________________________________________\n",
      "dense_1 (Dense)              (None, 200)               28800200  \n",
      "_________________________________________________________________\n",
      "dense_2 (Dense)              (None, 2)                 402       \n",
      "=================================================================\n",
      "Total params: 28,812,642\n",
      "Trainable params: 28,812,642\n",
      "Non-trainable params: 0\n",
      "_________________________________________________________________\n",
      "None\n"
     ]
    }
   ],
   "source": [
    "model = baselineCNN()\n",
    "print(model.summary())"
   ]
  },
  {
   "cell_type": "code",
   "execution_count": 8,
   "metadata": {},
   "outputs": [
    {
     "data": {
      "image/png": "[encoded data removed]",
      "text/plain": [
       "<IPython.core.display.Image object>"
      ]
     },
     "execution_count": 8,
     "metadata": {},
     "output_type": "execute_result"
    }
   ],
   "source": [
    "# Visualize the model\n",
    "# Pre-req: conda install pydot graphviz\n",
    "# And/or:  sudo apt install graphviz libgraphviz-dev\n",
    "\n",
    "from keras.utils.vis_utils import plot_model\n",
    "#plot_model(model, to_file='model_plot.png', show_shapes=True, show_layer_names=True)\n",
    "plot_model(model, to_file='part 1 model_plot_small_CNN.png', show_shapes=True, show_layer_names=True)\n",
    "#Best way to display the image\n",
    "from IPython.display import Image,SVG\n",
    "Image(filename='part 1 model_plot_small_CNN.png') "
   ]
  },
  {
   "cell_type": "code",
   "execution_count": 9,
   "metadata": {},
   "outputs": [],
   "source": [
    "# current timestamp as the log filename \n",
    "import time\n",
    "t = time.localtime(time.time())\n",
    "timeStamp = str(t.tm_year) + '-' + str(t.tm_mon) + '-' + str(t.tm_mday) + '--' + str(t.tm_hour) + '-'+str(t.tm_min) + '-'+str(t.tm_sec)\n",
    "timeStamp\n",
    "\n",
    "## Create a TensorBoard instance with the path to the logs directory\n",
    "from keras.callbacks import TensorBoard\n",
    "tBoard = TensorBoard(log_dir='logs/{}'.format(timeStamp))\n",
    "# http://laptop-91672tml:6006/#scalars"
   ]
  },
  {
   "cell_type": "code",
   "execution_count": 10,
   "metadata": {},
   "outputs": [
    {
     "name": "stdout",
     "output_type": "stream",
     "text": [
      "(1935,)\n",
      "1935\n",
      "1548\n",
      "387\n",
      "1935\n",
      "[0. 1.]\n"
     ]
    }
   ],
   "source": [
    "# split training and test data manually, don't want randomization\n",
    "eighty_idx = int(len(raw_images) * .80)\n",
    "grounds = np.array(grounds)\n",
    "print(grounds.shape)\n",
    "xtrain, ytrain = raw_images[:eighty_idx], grounds[:eighty_idx]\n",
    "xtest,  ytest  = raw_images[eighty_idx:], grounds[eighty_idx:]\n",
    "print(len(raw_images))\n",
    "print(len(xtrain))\n",
    "print(len(xtest))\n",
    "print(len(xtest) + len(xtrain))\n",
    "ytrain = np_utils.to_categorical(ytrain)\n",
    "ytest = np_utils.to_categorical(ytest)\n",
    "print(ytest[8])"
   ]
  },
  {
   "cell_type": "code",
   "execution_count": null,
   "metadata": {},
   "outputs": [
    {
     "name": "stdout",
     "output_type": "stream",
     "text": [
      "Train on 1548 samples, validate on 387 samples\n",
      "Epoch 1/5\n"
     ]
    }
   ],
   "source": [
    "# Fit the model, and record history of training results\n",
    "# define the params\n",
    "num_epochs = 5\n",
    "batch_size = 200\n",
    "\n",
    "history = model.fit(\n",
    "    xtrain,\n",
    "    ytrain,\n",
    "    validation_data=(xtest,ytest),\n",
    "    epochs=num_epochs,\n",
    "    batch_size=batch_size,\n",
    "    verbose=2,\n",
    "    callbacks=[tBoard]\n",
    ")"
   ]
  },
  {
   "cell_type": "code",
   "execution_count": null,
   "metadata": {},
   "outputs": [],
   "source": [
    "pth = input('enter the full path for storing weights, or enter 0 to skip this')\n",
    "import os\n",
    "no_go=True\n",
    "if pth != '0':\n",
    "\twhile no_go:\n",
    "\t\ttry:\n",
    "\t\t\tos.path.isdir(pth)\n",
    "\t\texcept:\n",
    "\t\t\tpth = input('enter the full path for storing weights, or enter 0 to skip this')\n",
    "\t\t\tif pth == '0':\n",
    "\t\t\t\tno_go = False\n",
    "\t\t\t\tbreak\n",
    "\t\tmodel.save_weights('%s/tracker1_weights' % pth, overwrite=True)\n",
    "\t\tno_go=False"
   ]
  },
  {
   "cell_type": "code",
   "execution_count": null,
   "metadata": {},
   "outputs": [],
   "source": []
  }
 ],
 "metadata": {
  "kernelspec": {
   "display_name": "Python 3",
   "language": "python",
   "name": "python3"
  },
  "language_info": {
   "codemirror_mode": {
    "name": "ipython",
    "version": 3
   },
   "file_extension": ".py",
   "mimetype": "text/x-python",
   "name": "python",
   "nbconvert_exporter": "python",
   "pygments_lexer": "ipython3",
   "version": "3.6.6"
  }
 },
 "nbformat": 4,
 "nbformat_minor": 2
}
